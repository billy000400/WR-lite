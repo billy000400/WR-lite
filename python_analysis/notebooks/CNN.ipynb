{
 "cells": [
  {
   "cell_type": "code",
   "execution_count": 1,
   "metadata": {},
   "outputs": [],
   "source": [
    "import sys\n",
    "from pathlib import Path"
   ]
  },
  {
   "cell_type": "code",
   "execution_count": 13,
   "metadata": {},
   "outputs": [],
   "source": [
    "import numpy as np\n",
    "import pandas as pd\n",
    "import matplotlib.pyplot as plt"
   ]
  },
  {
   "cell_type": "code",
   "execution_count": 3,
   "metadata": {},
   "outputs": [],
   "source": [
    "import torch\n",
    "import torchvision\n",
    "\n",
    "import torch.nn as nn\n",
    "import torch.nn.functional as F"
   ]
  },
  {
   "cell_type": "markdown",
   "metadata": {},
   "source": [
    "Load data"
   ]
  },
  {
   "cell_type": "code",
   "execution_count": 4,
   "metadata": {},
   "outputs": [],
   "source": [
    "data_dir = Path.cwd().parent.joinpath('data')"
   ]
  },
  {
   "cell_type": "code",
   "execution_count": 5,
   "metadata": {},
   "outputs": [],
   "source": [
    "mps = {} # mass pairs\n",
    "mps[1400] = [400, 600, 800, 1000, 1200, 1300]"
   ]
  },
  {
   "cell_type": "code",
   "execution_count": 6,
   "metadata": {},
   "outputs": [],
   "source": [
    "wr = 1400\n",
    "n = [400, 600, 800, 1000, 1200, 1300]\n",
    "eejj_ref = np.load(data_dir.joinpath(f\"WR{wr}N{n[0]}_eejjMassArray.npy\"))\n",
    "weight_ref = np.load(data_dir.joinpath(f\"WR{wr}N{n[0]}_eejjMassArray.npy\"))\n",
    "x, edges = np.histogram(a=eejj_ref, bins=100, range=[wr*0.45,wr*1.55], density=True)\n",
    "x = torch.tensor(x, dtype=torch.float32).reshape([1,1,100])"
   ]
  },
  {
   "cell_type": "markdown",
   "metadata": {},
   "source": [
    "Test 1 conv1D"
   ]
  },
  {
   "cell_type": "code",
   "execution_count": 23,
   "metadata": {},
   "outputs": [],
   "source": [
    "i = -1\n",
    "eejj_test = np.load(data_dir.joinpath(f\"WR{wr}N{n[i]}_eejjMassArray.npy\"))\n",
    "weight_test = np.load(data_dir.joinpath(f\"WR{wr}N{n[i]}_eejjMassArray.npy\"))\n",
    "y, _ = np.histogram(a=eejj_test, bins=100, range=[wr*0.45,wr*1.55], density=True)\n",
    "y = torch.tensor(y, dtype=torch.float32).reshape([1,1,100])"
   ]
  },
  {
   "cell_type": "code",
   "execution_count": 100,
   "metadata": {},
   "outputs": [],
   "source": [
    "class model(nn.Module):\n",
    "    def __init__(self):\n",
    "        super().__init__()\n",
    "        self.conv1 = nn.Conv1d(in_channels=1, out_channels=2, kernel_size=21, padding=10, bias=False)\n",
    "        self.conv2 = nn.Conv1d(in_channels=2, out_channels=1, kernel_size=21, padding=10, bias=False)\n",
    "#         self.conv3 = nn.Conv1d(in_channels=4, out_channels=1, kernel_size=21, padding=10, bias=False)\n",
    "#         self.conv4 = nn.Conv1d(in_channels=16, out_channels=1, kernel_size=101, padding=50, bias=True)\n",
    "\n",
    "\n",
    "\n",
    "    def forward(self, x):\n",
    "        x = self.conv1(x)\n",
    "        x = F.relu(x)\n",
    "        x = x/torch.sum(x)\n",
    "        x = self.conv2(x)\n",
    "        x = F.relu(x)\n",
    "        x = x/torch.sum(x)\n",
    "#         x = self.conv3(x)\n",
    "#         x = x/torch.sum(x)\n",
    "#         x = self.conv4(x)\n",
    "        \n",
    "        return x"
   ]
  },
  {
   "cell_type": "code",
   "execution_count": 112,
   "metadata": {
    "scrolled": false
   },
   "outputs": [
    {
     "name": "stdout",
     "output_type": "stream",
     "text": [
      "1109\n",
      "0.0001632424973649904\n"
     ]
    },
    {
     "data": {
      "image/png": "[encoded data removed]",
      "text/plain": [
       "<Figure size 1296x432 with 3 Axes>"
      ]
     },
     "metadata": {
      "needs_background": "light"
     },
     "output_type": "display_data"
    }
   ],
   "source": [
    "net=model()\n",
    "\n",
    "import torch.optim as optim\n",
    "\n",
    "criterion = nn.MSELoss()\n",
    "optimizer = optim.Adam(net.parameters(), lr=0.001)\n",
    "\n",
    "best_epoch= 0\n",
    "lowest_loss = 1000000000.0\n",
    "for epoch in range(30000):\n",
    "    p = net(x)\n",
    "    loss = criterion(p,y)\n",
    "    \n",
    "    if loss.item() < lowest_loss:\n",
    "        lowest_loss = loss.item()\n",
    "        best_epoch = epoch\n",
    "        \n",
    "    if epoch-best_epoch>500:\n",
    "        break\n",
    "        \n",
    "    loss.backward()\n",
    "    optimizer.step()\n",
    "    \n",
    "print(best_epoch)\n",
    "print(lowest_loss)\n",
    "    \n",
    "test=net(x).detach().numpy().reshape(100)\n",
    "fig, axs = plt.subplots(1,3,figsize=(18,6))\n",
    "axs[0].bar(x=edges[:-1], height=x.reshape(100).detach().numpy(), width=bar_width, align='edge')\n",
    "axs[1].bar(x=edges[:-1], height=y.reshape(100).detach().numpy(), width=bar_width, align='edge')\n",
    "bar_width = edges[1]-edges[0]\n",
    "axs[2].bar(x=edges[:-1], height=test, width=bar_width, align='edge')\n",
    "plt.show()"
   ]
  },
  {
   "cell_type": "code",
   "execution_count": null,
   "metadata": {},
   "outputs": [],
   "source": []
  },
  {
   "cell_type": "code",
   "execution_count": null,
   "metadata": {},
   "outputs": [],
   "source": []
  }
 ],
 "metadata": {
  "kernelspec": {
   "display_name": "Python 3",
   "language": "python",
   "name": "python3"
  },
  "language_info": {
   "codemirror_mode": {
    "name": "ipython",
    "version": 3
   },
   "file_extension": ".py",
   "mimetype": "text/x-python",
   "name": "python",
   "nbconvert_exporter": "python",
   "pygments_lexer": "ipython3",
   "version": "3.7.6"
  }
 },
 "nbformat": 4,
 "nbformat_minor": 4
}
